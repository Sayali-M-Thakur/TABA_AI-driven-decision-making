{
 "cells": [
  {
   "cell_type": "code",
   "execution_count": 33,
   "id": "890f3098",
   "metadata": {},
   "outputs": [],
   "source": [
    "import json\n",
    "import pandas as pd\n",
    "from sklearn.model_selection import train_test_split\n",
    "from sklearn.feature_extraction.text import TfidfVectorizer\n",
    "from sklearn.metrics import accuracy_score, precision_score, recall_score, f1_score"
   ]
  },
  {
   "cell_type": "code",
   "execution_count": 25,
   "id": "cf3a7764",
   "metadata": {},
   "outputs": [
    {
     "name": "stdout",
     "output_type": "stream",
     "text": [
      "                                        article_link  \\\n",
      "0  https://www.huffingtonpost.com/entry/versace-b...   \n",
      "1  https://www.huffingtonpost.com/entry/roseanne-...   \n",
      "2  https://local.theonion.com/mom-starting-to-fea...   \n",
      "3  https://politics.theonion.com/boehner-just-wan...   \n",
      "4  https://www.huffingtonpost.com/entry/jk-rowlin...   \n",
      "\n",
      "                                            headline  is_sarcastic  \n",
      "0  former versace store clerk sues over secret 'b...             0  \n",
      "1  the 'roseanne' revival catches up to our thorn...             0  \n",
      "2  mom starting to fear son's web series closest ...             1  \n",
      "3  boehner just wants wife to listen, not come up...             1  \n",
      "4  j.k. rowling wishes snape happy birthday in th...             0  \n"
     ]
    }
   ],
   "source": [
    "# Load the dataset\n",
    "data = []\n",
    "# df1 = pd.read_json(\"Sarcasm_Headlines_Dataset.json\", lines=True)\n",
    "\n",
    "with open('Sarcasm_Headlines_Dataset.json') as f:\n",
    "    for line in f:\n",
    "        data.append(json.loads(line))\n",
    "\n",
    "# Convert the data to a DataFrame\n",
    "df = pd.DataFrame(data)\n",
    "# Display the first few rows to understand the structure\n",
    "print(df.head())"
   ]
  },
  {
   "cell_type": "code",
   "execution_count": 26,
   "id": "182ee410",
   "metadata": {},
   "outputs": [],
   "source": [
    "# Split the data into features and labels\n",
    "X = df['headline']\n",
    "y = df['is_sarcastic']\n",
    "\n",
    "# Split the data into training and testing sets\n",
    "X_train, X_test, y_train, y_test = train_test_split(X, y, test_size=0.2, random_state=42)\n",
    "\n",
    "# Convert text data into numerical features using TF-IDF\n",
    "vectorizer = TfidfVectorizer(stop_words='english', ngram_range=(1, 2))\n",
    "X_train_tfidf = vectorizer.fit_transform(X_train)\n",
    "X_test_tfidf = vectorizer.transform(X_test)"
   ]
  },
  {
   "cell_type": "code",
   "execution_count": null,
   "id": "b9170b1f",
   "metadata": {},
   "outputs": [],
   "source": []
  },
  {
   "cell_type": "code",
   "execution_count": null,
   "id": "a9c3025e",
   "metadata": {},
   "outputs": [],
   "source": []
  },
  {
   "cell_type": "code",
   "execution_count": 27,
   "id": "7447f0a5",
   "metadata": {},
   "outputs": [
    {
     "name": "stdout",
     "output_type": "stream",
     "text": [
      "Naive Bayes - Accuracy: 0.7811681018345189, Precision: 0.8746021642266073, Recall: 0.5856777493606138, F1-Score: 0.7015573142711259\n"
     ]
    }
   ],
   "source": [
    "# Implementing Naive Bayes\n",
    "from sklearn.naive_bayes import MultinomialNB\n",
    "\n",
    "# Train a Naive Bayes classifier\n",
    "nb_model = MultinomialNB()\n",
    "nb_model.fit(X_train_tfidf, y_train)\n",
    "\n",
    "# Predict the labels on the test set\n",
    "nb_preds = nb_model.predict(X_test_tfidf)\n",
    "\n",
    "# Evaluate the Naive Bayes model\n",
    "nb_accuracy = accuracy_score(y_test, nb_preds)\n",
    "nb_precision = precision_score(y_test, nb_preds)\n",
    "nb_recall = recall_score(y_test, nb_preds)\n",
    "nb_f1 = f1_score(y_test, nb_preds)\n",
    "\n",
    "print(f\"Naive Bayes - Accuracy: {nb_accuracy}, Precision: {nb_precision}, Recall: {nb_recall}, F1-Score: {nb_f1}\")\n"
   ]
  },
  {
   "cell_type": "code",
   "execution_count": 28,
   "id": "538afd3b",
   "metadata": {},
   "outputs": [
    {
     "name": "stdout",
     "output_type": "stream",
     "text": [
      "SVM - Accuracy: 0.804193186072632, Precision: 0.7920035938903863, Recall: 0.7514919011082694, F1-Score: 0.7712160979877515\n"
     ]
    }
   ],
   "source": [
    "# Implementing Support Vector Machine (SVM)\n",
    "from sklearn.svm import SVC\n",
    "\n",
    "# Train an SVM classifier\n",
    "svm_model = SVC(kernel='linear', random_state=42)\n",
    "svm_model.fit(X_train_tfidf, y_train)\n",
    "\n",
    "# Predict the labels on the test set\n",
    "svm_preds = svm_model.predict(X_test_tfidf)\n",
    "\n",
    "# Evaluate the SVM model\n",
    "svm_accuracy = accuracy_score(y_test, svm_preds)\n",
    "svm_precision = precision_score(y_test, svm_preds)\n",
    "svm_recall = recall_score(y_test, svm_preds)\n",
    "svm_f1 = f1_score(y_test, svm_preds)\n",
    "\n",
    "print(f\"SVM - Accuracy: {svm_accuracy}, Precision: {svm_precision}, Recall: {svm_recall}, F1-Score: {svm_f1}\")\n"
   ]
  },
  {
   "cell_type": "code",
   "execution_count": 29,
   "id": "bb4d7acb",
   "metadata": {},
   "outputs": [
    {
     "name": "stdout",
     "output_type": "stream",
     "text": [
      "Logistic Regression - Accuracy: 0.7933358292774242, Precision: 0.8152284263959391, Recall: 0.6845694799658995, F1-Score: 0.7442075996292864\n"
     ]
    }
   ],
   "source": [
    "# Implementing Logistic Regression\n",
    "from sklearn.linear_model import LogisticRegression\n",
    "\n",
    "# Train a Logistic Regression classifier\n",
    "lr_model = LogisticRegression(random_state=42, max_iter=10000)\n",
    "lr_model.fit(X_train_tfidf, y_train)\n",
    "\n",
    "# Predict the labels on the test set\n",
    "lr_preds = lr_model.predict(X_test_tfidf)\n",
    "\n",
    "# Evaluate the Logistic Regression model\n",
    "lr_accuracy = accuracy_score(y_test, lr_preds)\n",
    "lr_precision = precision_score(y_test, lr_preds)\n",
    "lr_recall = recall_score(y_test, lr_preds)\n",
    "lr_f1 = f1_score(y_test, lr_preds)\n",
    "\n",
    "print(f\"Logistic Regression - Accuracy: {lr_accuracy}, Precision: {lr_precision}, Recall: {lr_recall}, F1-Score: {lr_f1}\")\n"
   ]
  },
  {
   "cell_type": "code",
   "execution_count": 34,
   "id": "a6462ea3",
   "metadata": {},
   "outputs": [
    {
     "name": "stdout",
     "output_type": "stream",
     "text": [
      "Model Comparison:\n",
      "Naive Bayes - \n",
      "    Accuracy:  0.7811681018345189\n",
      "    Precision: 0.8746021642266073\n",
      "    Recall:    0.5856777493606138\n",
      "    F1-Score:  0.7015573142711259\n",
      "SVM - \n",
      "    Accuracy:  0.804193186072632\n",
      "    Precision: 0.7920035938903863\n",
      "    Recall:    0.7514919011082694\n",
      "    F1-Score:  0.7712160979877515\n",
      "Logistic Regression - \n",
      "    Accuracy:  0.7933358292774242\n",
      "    Precision: 0.8152284263959391\n",
      "    Recall:    0.6845694799658995\n",
      "    F1-Score:  0.7442075996292864\n"
     ]
    }
   ],
   "source": [
    "# Print the results for comparison\n",
    "print(\"Model Comparison:\")\n",
    "\n",
    "# Naive Bayes\n",
    "print(\"Naive Bayes - \")\n",
    "print(f\"    Accuracy:  {nb_accuracy}\")\n",
    "print(f\"    Precision: {nb_precision}\")\n",
    "print(f\"    Recall:    {nb_recall}\")\n",
    "print(f\"    F1-Score:  {nb_f1}\")\n",
    "\n",
    "# Support Vector Machine (SVM)\n",
    "print(\"SVM - \")\n",
    "print(f\"    Accuracy:  {svm_accuracy}\")\n",
    "print(f\"    Precision: {svm_precision}\")\n",
    "print(f\"    Recall:    {svm_recall}\")\n",
    "print(f\"    F1-Score:  {svm_f1}\")\n",
    "\n",
    "# Logistic Regression\n",
    "print(\"Logistic Regression - \")\n",
    "print(f\"    Accuracy:  {lr_accuracy}\")\n",
    "print(f\"    Precision: {lr_precision}\")\n",
    "print(f\"    Recall:    {lr_recall}\")\n",
    "print(f\"    F1-Score:  {lr_f1}\")"
   ]
  },
  {
   "cell_type": "code",
   "execution_count": 31,
   "id": "ace521d4",
   "metadata": {},
   "outputs": [
    {
     "data": {
      "image/png": "[encoded data removed]",
      "text/plain": [
       "<Figure size 640x480 with 1 Axes>"
      ]
     },
     "metadata": {},
     "output_type": "display_data"
    }
   ],
   "source": [
    "# Graphical Representation\n",
    "import matplotlib.pyplot as plt\n",
    "import numpy as np\n",
    "\n",
    "# Metrics for each model\n",
    "models = ['Naive Bayes', 'SVM', 'Logistic Regression']\n",
    "accuracy = [nb_accuracy, svm_accuracy, lr_accuracy]\n",
    "precision = [nb_precision, svm_precision, lr_precision]\n",
    "recall = [nb_recall, svm_recall, lr_recall]\n",
    "f1_score = [nb_f1, svm_f1, lr_f1]\n",
    "\n",
    "# Plotting the bar chart\n",
    "x = np.arange(len(models))\n",
    "width = 0.2\n",
    "\n",
    "fig, ax = plt.subplots()\n",
    "rects1 = ax.bar(x - 1.5*width, accuracy, width, label='Accuracy')\n",
    "rects2 = ax.bar(x - 0.5*width, precision, width, label='Precision')\n",
    "rects3 = ax.bar(x + 0.5*width, recall, width, label='Recall')\n",
    "rects4 = ax.bar(x + 1.5*width, f1_score, width, label='F1-Score')\n",
    "\n",
    "ax.set_xlabel('Models')\n",
    "ax.set_title('Performance Metrics by Model')\n",
    "ax.set_xticks(x)\n",
    "ax.set_xticklabels(models)\n",
    "ax.legend()\n",
    "\n",
    "plt.show()\n"
   ]
  },
  {
   "cell_type": "code",
   "execution_count": null,
   "id": "a2e4739e",
   "metadata": {},
   "outputs": [],
   "source": []
  }
 ],
 "metadata": {
  "kernelspec": {
   "display_name": "Python 3 (ipykernel)",
   "language": "python",
   "name": "python3"
  },
  "language_info": {
   "codemirror_mode": {
    "name": "ipython",
    "version": 3
   },
   "file_extension": ".py",
   "mimetype": "text/x-python",
   "name": "python",
   "nbconvert_exporter": "python",
   "pygments_lexer": "ipython3",
   "version": "3.11.5"
  }
 },
 "nbformat": 4,
 "nbformat_minor": 5
}
